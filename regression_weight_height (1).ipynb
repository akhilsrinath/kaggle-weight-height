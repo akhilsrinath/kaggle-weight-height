{
  "nbformat": 4,
  "nbformat_minor": 0,
  "metadata": {
    "colab": {
      "name": "regression_weight_height.ipynb",
      "provenance": []
    },
    "kernelspec": {
      "name": "python3",
      "display_name": "Python 3"
    }
  },
  "cells": [
    {
      "cell_type": "code",
      "metadata": {
        "id": "0DBhKVcfUAEC",
        "colab_type": "code",
        "outputId": "242fd590-a924-4aff-ae7b-a45fddcae8d8",
        "colab": {
          "base_uri": "https://localhost:8080/",
          "height": 122
        }
      },
      "source": [
        "from google.colab import drive \n",
        "drive.mount('/content/drive')"
      ],
      "execution_count": 2,
      "outputs": [
        {
          "output_type": "stream",
          "text": [
            "Go to this URL in a browser: https://accounts.google.com/o/oauth2/auth?client_id=947318989803-6bn6qk8qdgf4n4g3pfee6491hc0brc4i.apps.googleusercontent.com&redirect_uri=urn%3aietf%3awg%3aoauth%3a2.0%3aoob&response_type=code&scope=email%20https%3a%2f%2fwww.googleapis.com%2fauth%2fdocs.test%20https%3a%2f%2fwww.googleapis.com%2fauth%2fdrive%20https%3a%2f%2fwww.googleapis.com%2fauth%2fdrive.photos.readonly%20https%3a%2f%2fwww.googleapis.com%2fauth%2fpeopleapi.readonly\n",
            "\n",
            "Enter your authorization code:\n",
            "··········\n",
            "Mounted at /content/drive\n"
          ],
          "name": "stdout"
        }
      ]
    },
    {
      "cell_type": "markdown",
      "metadata": {
        "id": "kUz_96Knbiuf",
        "colab_type": "text"
      },
      "source": [
        "# Simple and Multiple Linear Regression "
      ]
    },
    {
      "cell_type": "markdown",
      "metadata": {
        "id": "HWByS43mb4zX",
        "colab_type": "text"
      },
      "source": [
        "Linear Regression is a method to model the relationship between a dependent variable (target variable) and one (simple) or more (multiple) independent varibales. We will plot the dataset and observe the relationship between variables. We will measure the strength between two variables using the correlation coefficients as well as the quality of the regression model using the mean squared error."
      ]
    },
    {
      "cell_type": "markdown",
      "metadata": {
        "id": "2x2JYAjxb-KR",
        "colab_type": "text"
      },
      "source": [
        "### Importing the libraries"
      ]
    },
    {
      "cell_type": "code",
      "metadata": {
        "id": "wAsBS2zSU-01",
        "colab_type": "code",
        "colab": {}
      },
      "source": [
        "import pandas as pd \n",
        "import seaborn as sns\n",
        "import matplotlib.pyplot as plt \n",
        "plt.style.use('ggplot')"
      ],
      "execution_count": 0,
      "outputs": []
    },
    {
      "cell_type": "markdown",
      "metadata": {
        "id": "pUBs3_HAcCkY",
        "colab_type": "text"
      },
      "source": [
        "### Exploratory Data Analysis \n"
      ]
    },
    {
      "cell_type": "code",
      "metadata": {
        "id": "AL7R0MoRVMtV",
        "colab_type": "code",
        "outputId": "31b4dcd3-359e-4955-8b45-d080da63c384",
        "colab": {
          "base_uri": "https://localhost:8080/",
          "height": 204
        }
      },
      "source": [
        "# Read the dataset \n",
        "df = pd.read_csv('/content/drive/My Drive/MachineLearning/weight-height.csv')\n",
        "df.head()"
      ],
      "execution_count": 4,
      "outputs": [
        {
          "output_type": "execute_result",
          "data": {
            "text/html": [
              "<div>\n",
              "<style scoped>\n",
              "    .dataframe tbody tr th:only-of-type {\n",
              "        vertical-align: middle;\n",
              "    }\n",
              "\n",
              "    .dataframe tbody tr th {\n",
              "        vertical-align: top;\n",
              "    }\n",
              "\n",
              "    .dataframe thead th {\n",
              "        text-align: right;\n",
              "    }\n",
              "</style>\n",
              "<table border=\"1\" class=\"dataframe\">\n",
              "  <thead>\n",
              "    <tr style=\"text-align: right;\">\n",
              "      <th></th>\n",
              "      <th>Gender</th>\n",
              "      <th>Height</th>\n",
              "      <th>Weight</th>\n",
              "    </tr>\n",
              "  </thead>\n",
              "  <tbody>\n",
              "    <tr>\n",
              "      <th>0</th>\n",
              "      <td>Male</td>\n",
              "      <td>73.847017</td>\n",
              "      <td>241.893563</td>\n",
              "    </tr>\n",
              "    <tr>\n",
              "      <th>1</th>\n",
              "      <td>Male</td>\n",
              "      <td>68.781904</td>\n",
              "      <td>162.310473</td>\n",
              "    </tr>\n",
              "    <tr>\n",
              "      <th>2</th>\n",
              "      <td>Male</td>\n",
              "      <td>74.110105</td>\n",
              "      <td>212.740856</td>\n",
              "    </tr>\n",
              "    <tr>\n",
              "      <th>3</th>\n",
              "      <td>Male</td>\n",
              "      <td>71.730978</td>\n",
              "      <td>220.042470</td>\n",
              "    </tr>\n",
              "    <tr>\n",
              "      <th>4</th>\n",
              "      <td>Male</td>\n",
              "      <td>69.881796</td>\n",
              "      <td>206.349801</td>\n",
              "    </tr>\n",
              "  </tbody>\n",
              "</table>\n",
              "</div>"
            ],
            "text/plain": [
              "  Gender     Height      Weight\n",
              "0   Male  73.847017  241.893563\n",
              "1   Male  68.781904  162.310473\n",
              "2   Male  74.110105  212.740856\n",
              "3   Male  71.730978  220.042470\n",
              "4   Male  69.881796  206.349801"
            ]
          },
          "metadata": {
            "tags": []
          },
          "execution_count": 4
        }
      ]
    },
    {
      "cell_type": "markdown",
      "metadata": {
        "id": "cZ72fyQrWqzH",
        "colab_type": "text"
      },
      "source": [
        "The dataset contains the height and weight of 5000 males and 5000 females. "
      ]
    },
    {
      "cell_type": "code",
      "metadata": {
        "id": "FJ3ddXcqeP6R",
        "colab_type": "code",
        "outputId": "691122db-99a5-4ce7-814e-d0b37774e515",
        "colab": {
          "base_uri": "https://localhost:8080/",
          "height": 34
        }
      },
      "source": [
        "# Number of unique values in the Gender column\n",
        "df.Gender.nunique()"
      ],
      "execution_count": 5,
      "outputs": [
        {
          "output_type": "execute_result",
          "data": {
            "text/plain": [
              "2"
            ]
          },
          "metadata": {
            "tags": []
          },
          "execution_count": 5
        }
      ]
    },
    {
      "cell_type": "code",
      "metadata": {
        "id": "T1qLJwjteSrx",
        "colab_type": "code",
        "outputId": "ff0e02eb-a512-46c8-e0ce-272a05d030ab",
        "colab": {
          "base_uri": "https://localhost:8080/",
          "height": 34
        }
      },
      "source": [
        "# Unique values in the Gender column\n",
        "df.Gender.unique()"
      ],
      "execution_count": 6,
      "outputs": [
        {
          "output_type": "execute_result",
          "data": {
            "text/plain": [
              "array(['Male', 'Female'], dtype=object)"
            ]
          },
          "metadata": {
            "tags": []
          },
          "execution_count": 6
        }
      ]
    },
    {
      "cell_type": "markdown",
      "metadata": {
        "id": "syswDcaKeUrY",
        "colab_type": "text"
      },
      "source": [
        "As we can see, the dataframe contains three columns: Gender, Height and Weight. The Gender column has 2 unique values : Male and Female "
      ]
    },
    {
      "cell_type": "code",
      "metadata": {
        "id": "M9uXEmisfIW5",
        "colab_type": "code",
        "outputId": "ba18a460-8019-4989-9e51-d1f73e2ca154",
        "colab": {
          "base_uri": "https://localhost:8080/",
          "height": 34
        }
      },
      "source": [
        "df.columns[df.isnull().any()]"
      ],
      "execution_count": 7,
      "outputs": [
        {
          "output_type": "execute_result",
          "data": {
            "text/plain": [
              "Index([], dtype='object')"
            ]
          },
          "metadata": {
            "tags": []
          },
          "execution_count": 7
        }
      ]
    },
    {
      "cell_type": "markdown",
      "metadata": {
        "id": "mVefwITRfJ_D",
        "colab_type": "text"
      },
      "source": [
        "As we can see, there are no missing values in the dataset \n"
      ]
    },
    {
      "cell_type": "markdown",
      "metadata": {
        "id": "3FNWfFxzfSN1",
        "colab_type": "text"
      },
      "source": [
        "To better understand the distribution of the weight and height variables, we can plot a histogram showing the frequency of these variables."
      ]
    },
    {
      "cell_type": "code",
      "metadata": {
        "id": "Ui1ZxsD8gnga",
        "colab_type": "code",
        "outputId": "5d79cba1-959d-421b-fa1c-141d7d0b7a08",
        "colab": {
          "base_uri": "https://localhost:8080/",
          "height": 492
        }
      },
      "source": [
        "# Histogram of the heights \n",
        "df.Height.plot(kind='hist', color='blue', edgecolor='black', figsize=(10,7))\n",
        "plt.title('Distribution of Height', size=24)\n",
        "plt.xlabel('Height(inches)', size=18)\n",
        "plt.ylabel('Frequency', size=18)\n",
        "\n"
      ],
      "execution_count": 8,
      "outputs": [
        {
          "output_type": "execute_result",
          "data": {
            "text/plain": [
              "Text(0, 0.5, 'Frequency')"
            ]
          },
          "metadata": {
            "tags": []
          },
          "execution_count": 8
        },
        {
          "output_type": "display_data",
          "data": {
            "image/png": "[encoded data removed]",
            "text/plain": [
              "<Figure size 720x504 with 1 Axes>"
            ]
          },
          "metadata": {
            "tags": []
          }
        }
      ]
    },
    {
      "cell_type": "code",
      "metadata": {
        "id": "jVY1yRssgwfP",
        "colab_type": "code",
        "outputId": "92bfd81e-f174-4cf5-9352-c8d18bb5dc20",
        "colab": {
          "base_uri": "https://localhost:8080/",
          "height": 492
        }
      },
      "source": [
        "# Histogram of the weights \n",
        "df.Weight.plot(kind='hist', color='blue', edgecolor='black', figsize=(10,7))\n",
        "plt.title('Distribution of Weight', size=24)\n",
        "plt.xlabel('Weight(pounds)', size=18)\n",
        "plt.ylabel('Frequency', size=18)\n"
      ],
      "execution_count": 9,
      "outputs": [
        {
          "output_type": "execute_result",
          "data": {
            "text/plain": [
              "Text(0, 0.5, 'Frequency')"
            ]
          },
          "metadata": {
            "tags": []
          },
          "execution_count": 9
        },
        {
          "output_type": "display_data",
          "data": {
            "image/png": "[encoded data removed]",
            "text/plain": [
              "<Figure size 720x504 with 1 Axes>"
            ]
          },
          "metadata": {
            "tags": []
          }
        }
      ]
    },
    {
      "cell_type": "markdown",
      "metadata": {
        "id": "LypVsYhGjCjI",
        "colab_type": "text"
      },
      "source": [
        "From the above plots, we can infer that both the height and the weight variables are normally distributed. We can use the describe function in Pandas to provide some descriptive statistics of the two features."
      ]
    },
    {
      "cell_type": "code",
      "metadata": {
        "id": "pSqfiaX5RsNv",
        "colab_type": "code",
        "colab": {
          "base_uri": "https://localhost:8080/",
          "height": 297
        },
        "outputId": "718ece6b-cd38-435c-b2df-025257e57c47"
      },
      "source": [
        "# Descriptive statistics male \n",
        "statistics_male = df[df['Gender']=='Male'].describe()\n",
        "statistics_male.rename(columns=lambda x:x+'_male', inplace=True)\n",
        "\n",
        "# Descriptive statistics female \n",
        "statistics_female = df[df['Gender']=='Female'].describe()\n",
        "statistics_female.rename(columns=lambda x:x+'_female', inplace=True)\n",
        "\n",
        "# Dataframe that contains both male and female statistics\n",
        "statistics = pd.concat([statistics_male, statistics_female], axis=1)\n",
        "statistics\n"
      ],
      "execution_count": 12,
      "outputs": [
        {
          "output_type": "execute_result",
          "data": {
            "text/html": [
              "<div>\n",
              "<style scoped>\n",
              "    .dataframe tbody tr th:only-of-type {\n",
              "        vertical-align: middle;\n",
              "    }\n",
              "\n",
              "    .dataframe tbody tr th {\n",
              "        vertical-align: top;\n",
              "    }\n",
              "\n",
              "    .dataframe thead th {\n",
              "        text-align: right;\n",
              "    }\n",
              "</style>\n",
              "<table border=\"1\" class=\"dataframe\">\n",
              "  <thead>\n",
              "    <tr style=\"text-align: right;\">\n",
              "      <th></th>\n",
              "      <th>Height_male</th>\n",
              "      <th>Weight_male</th>\n",
              "      <th>Height_female</th>\n",
              "      <th>Weight_female</th>\n",
              "    </tr>\n",
              "  </thead>\n",
              "  <tbody>\n",
              "    <tr>\n",
              "      <th>count</th>\n",
              "      <td>5000.000000</td>\n",
              "      <td>5000.000000</td>\n",
              "      <td>5000.000000</td>\n",
              "      <td>5000.000000</td>\n",
              "    </tr>\n",
              "    <tr>\n",
              "      <th>mean</th>\n",
              "      <td>69.026346</td>\n",
              "      <td>187.020621</td>\n",
              "      <td>63.708774</td>\n",
              "      <td>135.860093</td>\n",
              "    </tr>\n",
              "    <tr>\n",
              "      <th>std</th>\n",
              "      <td>2.863362</td>\n",
              "      <td>19.781155</td>\n",
              "      <td>2.696284</td>\n",
              "      <td>19.022468</td>\n",
              "    </tr>\n",
              "    <tr>\n",
              "      <th>min</th>\n",
              "      <td>58.406905</td>\n",
              "      <td>112.902939</td>\n",
              "      <td>54.263133</td>\n",
              "      <td>64.700127</td>\n",
              "    </tr>\n",
              "    <tr>\n",
              "      <th>25%</th>\n",
              "      <td>67.174679</td>\n",
              "      <td>173.887767</td>\n",
              "      <td>61.894441</td>\n",
              "      <td>122.934096</td>\n",
              "    </tr>\n",
              "    <tr>\n",
              "      <th>50%</th>\n",
              "      <td>69.027709</td>\n",
              "      <td>187.033546</td>\n",
              "      <td>63.730924</td>\n",
              "      <td>136.117583</td>\n",
              "    </tr>\n",
              "    <tr>\n",
              "      <th>75%</th>\n",
              "      <td>70.988744</td>\n",
              "      <td>200.357802</td>\n",
              "      <td>65.563565</td>\n",
              "      <td>148.810926</td>\n",
              "    </tr>\n",
              "    <tr>\n",
              "      <th>max</th>\n",
              "      <td>78.998742</td>\n",
              "      <td>269.989699</td>\n",
              "      <td>73.389586</td>\n",
              "      <td>202.237214</td>\n",
              "    </tr>\n",
              "  </tbody>\n",
              "</table>\n",
              "</div>"
            ],
            "text/plain": [
              "       Height_male  Weight_male  Height_female  Weight_female\n",
              "count  5000.000000  5000.000000    5000.000000    5000.000000\n",
              "mean     69.026346   187.020621      63.708774     135.860093\n",
              "std       2.863362    19.781155       2.696284      19.022468\n",
              "min      58.406905   112.902939      54.263133      64.700127\n",
              "25%      67.174679   173.887767      61.894441     122.934096\n",
              "50%      69.027709   187.033546      63.730924     136.117583\n",
              "75%      70.988744   200.357802      65.563565     148.810926\n",
              "max      78.998742   269.989699      73.389586     202.237214"
            ]
          },
          "metadata": {
            "tags": []
          },
          "execution_count": 12
        }
      ]
    },
    {
      "cell_type": "markdown",
      "metadata": {
        "id": "I_cmgl_9RwxP",
        "colab_type": "text"
      },
      "source": [
        "We will now develop a scatter plot to determine the relationship between two numerical variables. The matplotlib has a built-in function matplotlib.pyplot.scatter() to help with this."
      ]
    },
    {
      "cell_type": "code",
      "metadata": {
        "id": "8HMWz7zJU5Hu",
        "colab_type": "code",
        "colab": {
          "base_uri": "https://localhost:8080/",
          "height": 475
        },
        "outputId": "b9157d32-7f7a-4584-805b-678a18e31ddb"
      },
      "source": [
        "ax1 = df[df['Gender']=='Male'].plot(kind='scatter', x='Height', y='Weight', color='blue',figsize=(10,7))\n",
        "df[df['Gender']=='Female'].plot(kind='scatter', x='Height', y='Weight', color='magenta', figsize=(10,7), ax=ax1)\n",
        "plt.legend(labels=['Males', 'Females'])\n",
        "plt.title('Relationship between Height and Weight', size=24)\n",
        "plt.xlabel('Height(inches)', size=18)\n",
        "plt.ylabel('Weight(pounds)', size=18)\n",
        "plt.show()\n"
      ],
      "execution_count": 15,
      "outputs": [
        {
          "output_type": "display_data",
          "data": {
            "image/png": "[encoded data removed]",
            "text/plain": [
              "<Figure size 720x504 with 1 Axes>"
            ]
          },
          "metadata": {
            "tags": []
          }
        }
      ]
    },
    {
      "cell_type": "markdown",
      "metadata": {
        "id": "umPLTmpDlSZe",
        "colab_type": "text"
      },
      "source": [
        "#### Linear Regression \n",
        "Simple Linear Regression is a linear approach to modelling the relationship between a dependent and independent variabl and obtain a line that best fits the data."
      ]
    },
    {
      "cell_type": "markdown",
      "metadata": {
        "id": "hFewd49gnrbM",
        "colab_type": "text"
      },
      "source": [
        "### Fitting a linear regression model using sklearn\n"
      ]
    },
    {
      "cell_type": "code",
      "metadata": {
        "id": "lveHI9Yknwx8",
        "colab_type": "code",
        "colab": {
          "base_uri": "https://localhost:8080/",
          "height": 34
        },
        "outputId": "49b64fe1-e684-4be9-bb16-1d66ceabef45"
      },
      "source": [
        "from sklearn.linear_model import LinearRegression\n",
        "\n",
        "df_males = df[df['Gender'] == 'Male']\n",
        "\n",
        "# Create linear regression object\n",
        "\n",
        "lr_males = LinearRegression()\n",
        "\n",
        "# Fit Linear Regression \n",
        "lr_males.fit(df_males[['Height']], df_males['Weight'])\n",
        "\n",
        "df_females = df[df['Gender'] == 'Female']\n",
        "lr_females = LinearRegression()\n",
        "lr_females.fit(df_females[['Height']], df_females['Weight'])\n"
      ],
      "execution_count": 19,
      "outputs": [
        {
          "output_type": "execute_result",
          "data": {
            "text/plain": [
              "LinearRegression(copy_X=True, fit_intercept=True, n_jobs=None, normalize=False)"
            ]
          },
          "metadata": {
            "tags": []
          },
          "execution_count": 19
        }
      ]
    },
    {
      "cell_type": "markdown",
      "metadata": {
        "id": "xvSyqvzto1V8",
        "colab_type": "text"
      },
      "source": [
        "Now that we have created a model to fit our data, we can make predictions using the predict() method."
      ]
    },
    {
      "cell_type": "code",
      "metadata": {
        "id": "ly6tzAVdptrC",
        "colab_type": "code",
        "colab": {
          "base_uri": "https://localhost:8080/",
          "height": 34
        },
        "outputId": "40b044dc-b77b-4350-fd5a-c57e10387436"
      },
      "source": [
        "lr_females.predict([[60]])"
      ],
      "execution_count": 20,
      "outputs": [
        {
          "output_type": "execute_result",
          "data": {
            "text/plain": [
              "array([113.62953114])"
            ]
          },
          "metadata": {
            "tags": []
          },
          "execution_count": 20
        }
      ]
    },
    {
      "cell_type": "code",
      "metadata": {
        "id": "VKmuopjyp4l-",
        "colab_type": "code",
        "colab": {
          "base_uri": "https://localhost:8080/",
          "height": 34
        },
        "outputId": "4b270d1a-4382-4886-db52-a18bdc42a523"
      },
      "source": [
        "lr_males.predict([[80]])"
      ],
      "execution_count": 21,
      "outputs": [
        {
          "output_type": "execute_result",
          "data": {
            "text/plain": [
              "array([252.44306426])"
            ]
          },
          "metadata": {
            "tags": []
          },
          "execution_count": 21
        }
      ]
    },
    {
      "cell_type": "code",
      "metadata": {
        "id": "UjgyTk02p9cF",
        "colab_type": "code",
        "colab": {
          "base_uri": "https://localhost:8080/",
          "height": 34
        },
        "outputId": "c3c2fc21-ffbe-4f3d-b1f4-022be5abc037"
      },
      "source": [
        "lr_males.predict([[100]])"
      ],
      "execution_count": 22,
      "outputs": [
        {
          "output_type": "execute_result",
          "data": {
            "text/plain": [
              "array([371.6785405])"
            ]
          },
          "metadata": {
            "tags": []
          },
          "execution_count": 22
        }
      ]
    },
    {
      "cell_type": "markdown",
      "metadata": {
        "id": "Jl-tnV6PqBVu",
        "colab_type": "text"
      },
      "source": [
        "### Pearson correlation coefficient "
      ]
    },
    {
      "cell_type": "code",
      "metadata": {
        "id": "uUTHR5UiqH0e",
        "colab_type": "code",
        "colab": {
          "base_uri": "https://localhost:8080/",
          "height": 111
        },
        "outputId": "98623d34-d336-4d7b-c02b-85f521dbefac"
      },
      "source": [
        "df_females.corr()"
      ],
      "execution_count": 24,
      "outputs": [
        {
          "output_type": "execute_result",
          "data": {
            "text/html": [
              "<div>\n",
              "<style scoped>\n",
              "    .dataframe tbody tr th:only-of-type {\n",
              "        vertical-align: middle;\n",
              "    }\n",
              "\n",
              "    .dataframe tbody tr th {\n",
              "        vertical-align: top;\n",
              "    }\n",
              "\n",
              "    .dataframe thead th {\n",
              "        text-align: right;\n",
              "    }\n",
              "</style>\n",
              "<table border=\"1\" class=\"dataframe\">\n",
              "  <thead>\n",
              "    <tr style=\"text-align: right;\">\n",
              "      <th></th>\n",
              "      <th>Height</th>\n",
              "      <th>Weight</th>\n",
              "    </tr>\n",
              "  </thead>\n",
              "  <tbody>\n",
              "    <tr>\n",
              "      <th>Height</th>\n",
              "      <td>1.000000</td>\n",
              "      <td>0.849609</td>\n",
              "    </tr>\n",
              "    <tr>\n",
              "      <th>Weight</th>\n",
              "      <td>0.849609</td>\n",
              "      <td>1.000000</td>\n",
              "    </tr>\n",
              "  </tbody>\n",
              "</table>\n",
              "</div>"
            ],
            "text/plain": [
              "          Height    Weight\n",
              "Height  1.000000  0.849609\n",
              "Weight  0.849609  1.000000"
            ]
          },
          "metadata": {
            "tags": []
          },
          "execution_count": 24
        }
      ]
    },
    {
      "cell_type": "code",
      "metadata": {
        "id": "9_zlITsPqRWA",
        "colab_type": "code",
        "colab": {
          "base_uri": "https://localhost:8080/",
          "height": 111
        },
        "outputId": "5f6e23ed-ee73-4aed-c20d-55a5d63a582c"
      },
      "source": [
        "df_males.corr()\n"
      ],
      "execution_count": 25,
      "outputs": [
        {
          "output_type": "execute_result",
          "data": {
            "text/html": [
              "<div>\n",
              "<style scoped>\n",
              "    .dataframe tbody tr th:only-of-type {\n",
              "        vertical-align: middle;\n",
              "    }\n",
              "\n",
              "    .dataframe tbody tr th {\n",
              "        vertical-align: top;\n",
              "    }\n",
              "\n",
              "    .dataframe thead th {\n",
              "        text-align: right;\n",
              "    }\n",
              "</style>\n",
              "<table border=\"1\" class=\"dataframe\">\n",
              "  <thead>\n",
              "    <tr style=\"text-align: right;\">\n",
              "      <th></th>\n",
              "      <th>Height</th>\n",
              "      <th>Weight</th>\n",
              "    </tr>\n",
              "  </thead>\n",
              "  <tbody>\n",
              "    <tr>\n",
              "      <th>Height</th>\n",
              "      <td>1.000000</td>\n",
              "      <td>0.862979</td>\n",
              "    </tr>\n",
              "    <tr>\n",
              "      <th>Weight</th>\n",
              "      <td>0.862979</td>\n",
              "      <td>1.000000</td>\n",
              "    </tr>\n",
              "  </tbody>\n",
              "</table>\n",
              "</div>"
            ],
            "text/plain": [
              "          Height    Weight\n",
              "Height  1.000000  0.862979\n",
              "Weight  0.862979  1.000000"
            ]
          },
          "metadata": {
            "tags": []
          },
          "execution_count": 25
        }
      ]
    },
    {
      "cell_type": "markdown",
      "metadata": {
        "id": "eW49qFPIqjft",
        "colab_type": "text"
      },
      "source": [
        "Interpretation of the correlation coefficient :\n",
        "  \n",
        "\n",
        "-    1-0.8 ---> Very Strong\n",
        "-   0.799-6 ---> Strong\n",
        "-   0.599-4 ---> Moderate\n",
        "-   0.399-2 ---> Weak\n",
        "-   0.199-0 ---> Very Weak\n",
        "\n",
        "Thus, we can infer that for both males and females, there is a string correlation between the input variables."
      ]
    },
    {
      "cell_type": "code",
      "metadata": {
        "id": "58uz5HWSrUAz",
        "colab_type": "code",
        "colab": {}
      },
      "source": [
        ""
      ],
      "execution_count": 0,
      "outputs": []
    }
  ]
}